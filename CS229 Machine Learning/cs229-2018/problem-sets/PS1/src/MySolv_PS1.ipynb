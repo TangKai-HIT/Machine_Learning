{
 "cells": [
  {
   "cell_type": "markdown",
   "id": "b8eb6e33-7ea4-4f2f-b159-4bfcc25d0146",
   "metadata": {
    "tags": []
   },
   "source": [
    "# Solutions for problem set 1 "
   ]
  },
  {
   "cell_type": "markdown",
   "id": "b01df518-282a-438d-a2e8-e4ea32a5aada",
   "metadata": {
    "tags": [],
    "toc-hr-collapsed": true
   },
   "source": [
    "## 1.Linear Classifiers (logistic regression and GDA)\n",
    "### (a) logistic regression\n",
    "\\begin{align*}\n",
    "\\frac{\\partial J(\\theta )}{\\partial \\theta _k}&=-\\frac{1}{m}\\sum_{i=1}^m{\\left[ y^{(i)}\\frac{x_{k}^{(i)}}{h_{\\theta}\\left( x^{(i)} \\right)}\\left( h_{\\theta}\\left( x^{(i)} \\right) \\left( 1-h_{\\theta}\\left( x^{(i)} \\right) \\right) +\\left( 1-y^{(i)} \\right) \\frac{-x_{k}^{(i)}}{1-h_{\\theta}\\left( x^{(i)} \\right)}h_{\\theta}\\left( x^{(i)} \\right) \\left( 1-h_{\\theta}\\left( x^{(i)} \\right) \\right) \\right] \\right.}\n",
    "\\\\\n",
    "&=-\\frac{1}{m}\\sum_{i=1}^m{\\left[ y^{(i)}x_{k}^{(i)}\\left( 1-h_{\\theta}\\left( x^{(i)} \\right) \\right) -\\left( 1-y^{(i)} \\right) x_{k}^{(i)}h_{\\theta}\\left( x^{(i)} \\right) \\right]}\n",
    "\\\\\n",
    "\\frac{\\partial ^2J(\\theta )}{\\partial \\theta _k\\partial \\theta _l}&=\\frac{1}{m}\\sum_{i=1}^m{x_{k}^{(i)}}x_{l}^{(i)}h_{\\theta}\\left( x^{(i)} \\right) \\left( 1-h_{\\theta}\\left( x^{(i)} \\right) \\right)\\\\\n",
    "\tH_{kl}&=\\frac{\\partial ^2J(\\theta )}{\\partial \\theta _k\\partial \\theta _l}\\\\\n",
    "\tz^{\\top}Hz&=\\frac{1}{m}\\sum_k{\\sum_l{\\sum_{i=1}^m{z_k}}}x_{k}^{(i)}x_{l}^{(i)}z_lh_{\\theta}\\left( x^{(i)} \\right) \\left( 1-h_{\\theta}\\left( x^{(i)} \\right) \\right)\\\\\n",
    "\t&=\\frac{1}{m}\\sum_{i=1}^m{\\left[ h_{\\theta}\\left( x^{(i)} \\right) \\left( 1-h_{\\theta}\\left( x^{(i)} \\right) \\right) \\sum_k{\\sum_l{z_k}}x_{k}^{(i)}x_{l}^{(i)}z_l \\right]}\\\\\n",
    "\t&=\\frac{1}{m}\\sum_{i=1}^m{\\left[ h_{\\theta}\\left( x^{(i)} \\right) \\left( 1-h_{\\theta}\\left( x^{(i)} \\right) \\right) \\left( z^{\\top}x^{(i)} \\right) ^2 \\right]}\\\\\n",
    "\t&\\geqslant 0\\\\\n",
    "\\end{align*}\n"
   ]
  },
  {
   "cell_type": "markdown",
   "id": "77557072-803b-4c13-a986-06bc7eec6b4c",
   "metadata": {},
   "source": [
    "### (b) Newton method for logistic regression(coding)"
   ]
  },
  {
   "cell_type": "code",
   "execution_count": 1,
   "id": "ad850c23-ca8f-45a7-9d81-05c6b12e7b04",
   "metadata": {},
   "outputs": [
    {
     "name": "stdout",
     "output_type": "stream",
     "text": [
      "1.For training set:\n"
     ]
    },
    {
     "data": {
      "image/png": "[encoded data removed]",
      "text/plain": [
       "<Figure size 432x288 with 1 Axes>"
      ]
     },
     "metadata": {
      "needs_background": "light"
     },
     "output_type": "display_data"
    },
    {
     "name": "stdout",
     "output_type": "stream",
     "text": [
      "Theta is:  [-6.26018491  2.47707251 -0.0299125 ]\n",
      "The accuracy on training set is:  0.8825\n",
      "2.For test set:\n"
     ]
    },
    {
     "data": {
      "image/png": "[encoded data removed]",
      "text/plain": [
       "<Figure size 432x288 with 1 Axes>"
      ]
     },
     "metadata": {
      "needs_background": "light"
     },
     "output_type": "display_data"
    },
    {
     "name": "stdout",
     "output_type": "stream",
     "text": [
      "The accuracy on validation set is:  0.9\n"
     ]
    }
   ],
   "source": [
    "from p01b_logreg import main as p01b\n",
    "p01b(train_path='../data/ds1_train.csv',\n",
    "         eval_path='../data/ds1_valid.csv',\n",
    "         pred_path='output/p01b_pred_1.txt')"
   ]
  },
  {
   "cell_type": "markdown",
   "id": "13fced93-c420-44ea-82f5-8fd4e7a7d236",
   "metadata": {},
   "source": [
    "### (c) GDA parameterization 1\n",
    "\\begin{align*}\n",
    "\tP\\left( y=1\\mid x;\\phi ,\\mu _0,\\mu _1,\\Sigma \\right) &=\\frac{P(x\\mid y=1)P(y=1)}{P(x\\mid y=0)P(y=0)+P(x\\mid y=1)P(y=1)}\\\\\n",
    "\t&=\\frac{\\phi \\exp \\left( -\\frac{1}{2}\\left( x-\\mu _1 \\right) ^{\\top}\\Sigma ^{-1}\\left( x-\\mu _1 \\right) \\right)}{(1-\\phi )\\exp \\left( -\\frac{1}{2}\\left( x-\\mu _0 \\right) ^{\\top}\\Sigma ^{-1}\\left( x-\\mu _0 \\right) \\right) +\\phi \\exp \\left( -\\frac{1}{2}\\left( x-\\mu _1 \\right) ^{\\top}\\Sigma ^{-1}\\left( x-\\mu _1 \\right) \\right)}\\\\\n",
    "\t&=\\frac{1}{1+\\left( \\frac{1-\\phi}{\\phi} \\right) \\exp \\left[ -\\frac{1}{2}\\left( x\\varepsilon ^{-1}x-2\\mu _{0}^{\\top}\\Sigma ^{-1}x+\\mu _{0}^{\\top}\\Sigma ^{-1}\\mu _0-x\\Sigma ^{-1}x+2\\mu _{1}^{\\top}\\varepsilon ^{-1}x-\\mu _{1}^{\\top}\\varepsilon ^{-1}M_1 \\right) \\right.}\\\\\n",
    "\t&=\\frac{1}{1+\\left( \\frac{1-\\phi}{\\phi} \\right) \\exp \\left[ \\left( \\mu _{0}^{\\top}\\Sigma ^{-1}-\\mu _{1}^{\\top}\\Sigma ^{-1} \\right) x+\\frac{1}{2}\\mu _{1}^{\\top}\\Sigma ^{-1}\\mu _1-\\frac{1}{2}\\mu _{0}^{\\top}\\Sigma ^{-1}\\mu _0 \\right]}\\\\\n",
    "\t&=\\frac{1}{1+\\exp \\left[ -\\left( \\left( \\mu _{1}^{\\top}\\Sigma ^{-1}-\\mu _{0}^{\\top}\\Sigma ^{-1} \\right) x+\\frac{1}{2}\\left( \\mu _{0}^{\\top}\\Sigma ^{-1}\\mu _0-\\mu _{1}^{\\top}\\Sigma ^{-1}\\mu _1-2\\ln \\frac{1-\\phi}{\\phi} \\right) \\right] \\right.}\\\\\n",
    "\t&=\\frac{1}{1+\\exp \\left( -\\left( \\theta ^{\\top}x+\\theta _0 \\right) \\right)}\\\\\n",
    "\t\\theta =\\Sigma ^{-1}\\left( \\mu _1-\\mu _0 \\right) ,\\theta _0&=\\frac{1}{2}\\left( \\mu _{0}^{\\top}\\Sigma ^{-1}\\mu _0-\\mu _{1}^{\\top}\\Sigma ^{-1}\\mu _1-2\\ln \\frac{1-\\phi}{\\phi} \\right)\\\\\n",
    "\\end{align*}"
   ]
  },
  {
   "cell_type": "markdown",
   "id": "88267198-6ed6-4d1a-8910-4825d6c6d4d1",
   "metadata": {},
   "source": [
    "### (d) GDA parameterization 2\n",
    "\\begin{aligned}\n",
    "\tl\\left( \\phi ,\\mu _1,\\mu _0,\\Sigma \\right) &=\\log \\prod_{i=1}^m{P}\\left( x^{\\left( i \\right)}\\mid y^{\\left( i \\right)};\\mu _0,\\mu _1,\\Sigma \\right) P\\left( y^{(i)};\\phi \\right)\\\\\n",
    "\t&=\\sum_{i=1}^m{\\left[ 1\\left\\{ y^{(i)}=1 \\right\\} \\left( \\log \\phi -\\frac{1}{2}\\left( x^{(i)}-\\mu _1 \\right) ^{\\top}\\Sigma ^{-1}\\left( x^{(i)}-\\mu _1 \\right) \\right) \\right]}+\\sum_{i=1}^m{\\left[ 1\\left\\{ y^{(i)}=0 \\right\\} \\left( \\log\\mathrm{(}1-\\phi )-\\frac{1}{2}\\left( x^{(i)}-\\mu _0 \\right) ^{\\top}\\Sigma ^{-1}\\left( x^{(i)}-\\mu _0 \\right) \\right) \\right]}+m\\log \\frac{1}{(2\\pi )^{n/2}\\left| \\varSigma \\right|^{1/2}}\\\\\n",
    "\t&=\\sum_{i=1}^m{\\left[ 1\\left\\{ y^{(i)}=1 \\right\\} \\left( \\log \\phi -\\frac{1}{2}\\left( x^{(i)}-\\mu _1 \\right) ^{\\top}\\Sigma ^{-1}\\left( x^{(i)}-\\mu _1 \\right) \\right) \\right]}+\\sum_{i=1}^m{\\left[ 1\\left\\{ y^{(i)}=0 \\right\\} \\left( \\log\\mathrm{(}1-\\phi )-\\frac{1}{2}\\left( x^{(i)}-\\mu _0 \\right) ^{\\top}\\Sigma ^{-1}\\left( x^{(i)}-\\mu _0 \\right) \\right) \\right]}-m\\left( \\frac{n}{2}\\log 2\\pi +\\frac{1}{2}\\log |\\varSigma | \\right)\\\\\n",
    "\t\\frac{\\partial l}{\\partial \\phi}&=\\frac{\\sum_{i=1}^m{\\mid}\\left\\{ y^{(i)}=1 \\right\\}}{\\phi}-\\frac{\\sum_{i=1}^m{\\mid}\\left\\{ y^{(i)}=0 \\right\\}}{1-\\phi}=0\\\\\n",
    "    \\\\\n",
    "\t\\phi &=\\frac{1}{m}\\sum_{i=1}^m{\\mid}\\left\\{ y^{(i)}=1 \\right\\}\\\\\n",
    "    \\\\\n",
    "\t\\frac{\\partial l}{\\partial \\mu _1}&=\\sum_{i=1}^m{\\left[ 1\\left\\{ y^{(i)}=1 \\right\\} \\left( -\\Sigma ^{-1}\\mu _1+\\Sigma ^{-1}x^{(i)} \\right) \\right]}=0\\\\\n",
    "\t\\mu _1&=\\frac{\\sum_{i=1}^m{1\\left\\{ y^{(i)}=1 \\right\\} x^{(i)}}}{\\sum_{i=1}^m{1\\left\\{ y^{(i)}=1 \\right\\}}}\\\\\n",
    "\t\\frac{\\partial l}{\\partial \\mu _0}&=\\sum_{i=1}^m{\\left[ 1\\left\\{ y^{(i)}=0 \\right\\} \\left( -\\sum_{-1}{\\mu _0}+\\sum_{-1}{x^{(i)}} \\right) \\right]}=0\\\\\n",
    "    \\\\\n",
    "\t\\mu _0&=\\frac{\\sum_{i=1}^m{1}\\left\\{ y^{(i)}=0 \\right\\} x^{(i)}}{\\sum_{i=1}^m{1}\\left\\{ y^{(i)}=0 \\right\\}}\\\\\n",
    "\t\\\\\n",
    "    \\frac{\\partial L}{\\partial \\Sigma ^{-1}}&=\\frac{\\partial}{\\partial \\Sigma ^{-1}}\\left[ -\\frac{1}{2}\\sum_{i=1}^m{\\left( x^{(i)}-\\mu _{y^{(i)}} \\right) ^{\\top}}\\Sigma ^{-1}\\left( x^{(i)}-\\mu _{y^{(i)}} \\right) -\\frac{m}{2}\\log |\\Sigma | \\right]\\\\\n",
    "\t&=\\frac{\\partial}{\\partial \\Sigma ^{-1}}\\left[ -\\frac{1}{2}\\sum_{i=1}^m{\\left( x^{(i)}-\\mu _{y^{(i)}} \\right) ^{\\top}}\\Sigma ^{-1}\\left( x^{(i)}-\\mu _{y^{(i)}} \\right) +\\frac{m}{2}\\log \\left| \\Sigma ^{-1} \\right| \\right]\\\\\n",
    "\t&=-\\frac{1}{2}\\sum_{i=1}^m{\\left( x^{(i)}-\\mu _{y^{(i)}} \\right)}\\left( x^{(i)}-\\mu _{y^{(i)}} \\right) ^{\\top}+\\frac{m}{2}\\left( \\Sigma ^{-1} \\right) ^{-\\top}\\\\\n",
    "\t&=-\\frac{1}{2}\\sum_{i=1}^m{\\left( x^{(i)}-\\mu _{y^{(i)}} \\right)}\\left( x^{(i)}-\\mu _{y^{(i)}} \\right) ^{\\top}+\\frac{m}{2}\\Sigma\\\\\n",
    "\t&=0\\\\\n",
    "    \\\\\n",
    "    \\Sigma &= \\frac{1}{m}\\sum_{i=1}^m{\\left( x^{(i)}-\\mu _{y^{(i)}} \\right)}\\left( x^{(i)}-\\mu _{y^{(i)}} \\right) ^{\\top}\n",
    "\\end{aligned}"
   ]
  },
  {
   "cell_type": "markdown",
   "id": "cdb59d7f-5b43-4476-af23-d28d83ed6257",
   "metadata": {},
   "source": [
    "### (e) GDA(coding)"
   ]
  },
  {
   "cell_type": "code",
   "execution_count": 1,
   "id": "32427f28-e6d1-4271-92d1-ac4f43ee3a7d",
   "metadata": {},
   "outputs": [
    {
     "name": "stdout",
     "output_type": "stream",
     "text": [
      "1.For training set:\n",
      "Theta is:  [ 2.50874989  3.76951271 -3.94657107]\n",
      "The accuracy on training set is:  0.8475\n",
      "2.For test set:\n",
      "The accuracy on validation set is:  0.82\n"
     ]
    }
   ],
   "source": [
    "from p01e_gda import main as p01e\n",
    "p01e(train_path='../data/ds2_train.csv',\n",
    "         eval_path='../data/ds2_valid.csv',\n",
    "         pred_path='output/p01e_pred_2.txt')"
   ]
  },
  {
   "cell_type": "markdown",
   "id": "e76290df-dff2-47d0-80e7-e6036739efdb",
   "metadata": {},
   "source": [
    "### (f) Plot"
   ]
  },
  {
   "cell_type": "code",
   "execution_count": null,
   "id": "e75c2ebd-7d44-49cd-bd89-97b320cdda3b",
   "metadata": {},
   "outputs": [],
   "source": [
    "def plot(x, y, theta_1, legend_1=None, theta_2=None, legend_2=None, title=None, correction=1.0):\n",
    "    # Plot dataset\n",
    "    plt.figure()\n",
    "    plt.plot(x[y == 1, -2], x[y == 1, -1], 'bx', linewidth=2)\n",
    "    plt.plot(x[y == 0, -2], x[y == 0, -1], 'go', linewidth=2)\n",
    "\n",
    "    # Plot decision boundary (found by solving for theta_1^T x = 0)\n",
    "    x1 = np.arange(min(x[:, -2]), max(x[:, -2]), 0.01)\n",
    "    x2 = -(theta_1[0] / theta_1[2] * correction + theta_1[1] / theta_1[2] * x1)\n",
    "    plt.plot(x1, x2, c='red', label=legend_1, linewidth=2)\n",
    "\n",
    "    # Plot decision boundary (found by solving for theta_2^T x = 0)\n",
    "    if theta_2 is not None:\n",
    "        x1 = np.arange(min(x[:, -2]), max(x[:, -2]), 0.01)\n",
    "        x2 = -(theta_2[0] / theta_1[2] * correction + theta_2[1] / theta_2[2] * x1)\n",
    "        plt.plot(x1, x2, c='black', label=legend_2, linewidth=2)\n",
    "\n",
    "    # Add labels, legend and title\n",
    "    plt.xlabel('x1')\n",
    "    plt.ylabel('x2')\n",
    "    if legend_1 is not None or legend_2 is not None:\n",
    "        plt.legend(loc=\"upper left\")\n",
    "    if title is not None:\n",
    "        plt.suptitle(title, fontsize=12)"
   ]
  },
  {
   "cell_type": "markdown",
   "id": "660ee536-36e1-44cd-89ba-d578d9bb7ec7",
   "metadata": {},
   "source": [
    "### (g) \n",
    "GDA performs better when the data set is guassian distributed"
   ]
  },
  {
   "cell_type": "markdown",
   "id": "83302567-2642-4934-99b3-6d0171d84831",
   "metadata": {},
   "source": [
    "## 2. Incomplete, Positive-Only Labels"
   ]
  },
  {
   "cell_type": "markdown",
   "id": "a6c8481a-6a28-41b4-bf65-7ca102bd8e0c",
   "metadata": {},
   "source": [
    "### (a)\n",
    "\\begin{aligned}\n",
    "\tP\\left( y^{(i)}=1\\mid t^{(i)}=1,x^{(i)} \\right) &=\\frac{P\\left( y^{(i)}=1,t^{(i)}=1\\mid x^{(i)} \\right)}{P\\left( t^{(i)}=1\\mid x^{(i)} \\right)}\\\\\n",
    "\tP\\left( y^{(i)}=1\\mid t^{(i)}=1 \\right) &=\\frac{P\\left( y^{\\left( i \\right)}=1\\mid x^{(i)} \\right)}{P\\left( t^{(i)}=1\\mid x^{(i)} \\right)}\\\\\n",
    "\t\\alpha &=P\\left( y^{(i)}=1\\mid t^{(i)}=1 \\right)\\\\\n",
    "\\end{aligned}"
   ]
  },
  {
   "cell_type": "markdown",
   "id": "d75a23b7-6fd9-410b-884a-5034fcfc3d5e",
   "metadata": {},
   "source": [
    "### (b) \n",
    "easy to prove by the result above\n",
    "\\begin{align*}\n",
    "h(x^{(i)}) & \\approx p(y^{(i)} = 1 \\ \\vert \\ x^{(i)}) \\\\\n",
    "           & = \\alpha \\ p(t^{(i)} = 1 \\ \\vert \\ x^{(i)}) \\\\\n",
    "           & \\approx \\alpha \\cdot 1 \\\\\n",
    "           & = \\alpha\n",
    "\\end{align*}"
   ]
  },
  {
   "cell_type": "markdown",
   "id": "4de68d36-5fb4-47e5-bbd7-7ae25b72d200",
   "metadata": {},
   "source": [
    "### (c),(d) (coding)"
   ]
  },
  {
   "cell_type": "code",
   "execution_count": null,
   "id": "912e1d40-64a2-4a34-83be-444a1bf99bcb",
   "metadata": {},
   "outputs": [],
   "source": []
  },
  {
   "cell_type": "markdown",
   "id": "47744199-721b-4f7d-90f7-3cde6e303cef",
   "metadata": {},
   "source": [
    "### (e) (coding)\n",
    "$$\\alpha = \\mathbb E [h(x^{(i)}) \\ \\vert \\ y^{(i)} = 1] \\approx \\frac{1}{\\vert V_+ \\vert} \\sum_{x^{(i)} \\in V_+} h(x^{(i)})$$"
   ]
  },
  {
   "cell_type": "code",
   "execution_count": null,
   "id": "b7a86191-5f49-49b9-b378-ccbc1a859b6b",
   "metadata": {},
   "outputs": [],
   "source": []
  }
 ],
 "metadata": {
  "kernelspec": {
   "display_name": "Python 3 (ipykernel)",
   "language": "python",
   "name": "python3"
  },
  "language_info": {
   "codemirror_mode": {
    "name": "ipython",
    "version": 3
   },
   "file_extension": ".py",
   "mimetype": "text/x-python",
   "name": "python",
   "nbconvert_exporter": "python",
   "pygments_lexer": "ipython3",
   "version": "3.7.3"
  }
 },
 "nbformat": 4,
 "nbformat_minor": 5
}
